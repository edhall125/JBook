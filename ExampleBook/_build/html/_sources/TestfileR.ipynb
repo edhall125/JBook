{
 "cells": [
  {
   "cell_type": "raw",
   "id": "d09412c4",
   "metadata": {},
   "source": [
    "---\n",
    "title: \"Test file\"\n",
    "output: html_document\n",
    "---"
   ]
  },
  {
   "cell_type": "code",
   "execution_count": null,
   "id": "50e882fa",
   "metadata": {
    "name": "setup",
    "tags": [
     "remove_cell"
    ],
    "vscode": {
     "languageId": "r"
    }
   },
   "outputs": [],
   "source": [
    "knitr::opts_chunk$set(echo = TRUE)"
   ]
  },
  {
   "attachments": {},
   "cell_type": "markdown",
   "id": "e90c78f7",
   "metadata": {},
   "source": [
    "# R Markdown\n",
    "\n",
    "Let's just test this."
   ]
  },
  {
   "cell_type": "code",
   "execution_count": null,
   "id": "6c065e9d",
   "metadata": {
    "lines_to_next_cell": 0,
    "vscode": {
     "languageId": "r"
    }
   },
   "outputs": [],
   "source": [
    "1+1\n",
    "x<-rnorm(1000)\n",
    "hist(x)"
   ]
  },
  {
   "attachments": {},
   "cell_type": "markdown",
   "id": "6e1e5f69",
   "metadata": {},
   "source": []
  }
 ],
 "metadata": {
  "jupytext": {
   "cell_metadata_filter": "tags,name,-all"
  },
  "kernelspec": {
   "display_name": "R",
   "language": "R",
   "name": "ir"
  }
 },
 "nbformat": 4,
 "nbformat_minor": 5
}
