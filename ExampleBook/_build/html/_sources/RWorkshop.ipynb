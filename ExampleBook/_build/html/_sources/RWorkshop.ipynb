{
 "cells": [
  {
   "cell_type": "markdown",
   "id": "70bef42b",
   "metadata": {},
   "source": [
    "# Testing Rmd files\n",
    "\n",
    "## Task 1 - Manipulating Data and Drawing Graphs"
   ]
  },
  {
   "cell_type": "code",
   "execution_count": null,
   "id": "85500efa",
   "metadata": {
    "lines_to_next_cell": 2
   },
   "outputs": [],
   "source": [
    "mydata = sample(1:100,1000,replace=TRUE)\n",
    "\n",
    "stripchart(mydata,method=\"stack\",ylab=\"Frequency\",xlab=\"Value\",main=\"Dot plot of some data\")\n",
    "\n",
    "plot(mydata,type=\"h\",ylab=\"value\",xlab=\"data point\",main=\"Plot of some data (with h option on)\")\n",
    "\n",
    "barplot(table(mydata),ylab=\"Frequency\",xlab=\"Value\",main=\"Bar plot of some data\")\n"
   ]
  },
  {
   "cell_type": "markdown",
   "id": "a77c4a65",
   "metadata": {
    "lines_to_next_cell": 0
   },
   "source": [
    "## Task 2 - Blackbird Data"
   ]
  },
  {
   "cell_type": "code",
   "execution_count": null,
   "id": "a2f42f9e",
   "metadata": {},
   "outputs": [],
   "source": [
    "mydata = read.csv(\"blackbird-csv.csv\")\n",
    "\n",
    "mean(mydata$Weight,na.rm=TRUE)\n",
    "median(mydata$Weight,na.rm=TRUE)\n",
    "var(mydata$Weight,na.rm=TRUE)\n",
    "sd(mydata$Weight,na.rm=TRUE)\n",
    "\n",
    "summary(mydata$Weight)\n",
    "\n",
    "\n",
    "hist(mydata$Weight,breaks=20,\n",
    "     main=\"Histogram of Blackbird Weights\",xlab=\"Weight (grams)\",ylab=\"Frequency\")\n",
    "\n",
    "mydata_stripped = mydata[complete.cases(mydata),]\n",
    "\n",
    "plot(mydata_stripped$Wing,mydata_stripped$Weight,\n",
    "     ylab=\"Weight (grams)\",xlab=\"Wingspan (mm)\",main=\"Blackbird Weight v Wingspan\")\n",
    "abline(lm(mydata_stripped$Weight~mydata_stripped$Wing))\n",
    "\n"
   ]
  },
  {
   "cell_type": "markdown",
   "id": "cddd3547",
   "metadata": {
    "lines_to_next_cell": 0
   },
   "source": [
    "## Task 3: Central Limit theorem:"
   ]
  },
  {
   "cell_type": "code",
   "execution_count": null,
   "id": "68a6d534",
   "metadata": {},
   "outputs": [],
   "source": [
    "n = 50\n",
    "p = 0.5\n",
    "no_samples = 10000\n",
    "binomial_sample = rbinom(no_samples,n,p)\n",
    "\n",
    "mu = n*p\n",
    "standard_dev = sqrt(n*p*(1-p))\n",
    "\n",
    "hist(binomial_sample,breaks=20,freq=FALSE,\n",
    "     xlab=\"Number of Successes\",ylab=\"Relative Frequency\",main=\"Binomial Frequency Plot\",\n",
    "     xlim=c(0,n),ylim=c(0,1.2*dnorm(mu,mu,standard_dev)))\n",
    "\n",
    "\n",
    "x = seq(0,n,0.01)\n",
    "y = dnorm(x,mu,standard_dev)\n",
    "lines(x,y)\n",
    "\n"
   ]
  },
  {
   "cell_type": "markdown",
   "id": "f6e7d93e",
   "metadata": {},
   "source": [
    "## Challenge: Central Limit Theorem"
   ]
  },
  {
   "cell_type": "code",
   "execution_count": null,
   "id": "5c6c369a",
   "metadata": {},
   "outputs": [],
   "source": [
    "n = 1000\n",
    "uniform_data = runif(n,0,1)\n",
    "sample_size = 10\n",
    "\n",
    "number_samples = 10000\n",
    "\n",
    "sample_means = c()\n",
    "for (k in 1:number_samples){\n",
    "  sample_data = sample(uniform_data,sample_size,replace=TRUE)\n",
    "  sample_means = c(sample_means,mean(sample_data))\n",
    "}\n",
    "\n",
    "mu = 0.5\n",
    "standard_dev = sqrt(1.0/12.0)\n",
    "\n",
    "scaled_data = (sample_means-mu)/(standard_dev/sqrt(sample_size))\n",
    "\n",
    "hist(scaled_data,breaks=20,freq=FALSE,\n",
    "     xlab=\"Z\",ylab=\"Relative Frequency\",ylim=c(0,0.5),xlim=c(-4,4),\n",
    "     main=\"Sample Means of Uniform Dist\")\n",
    "\n",
    "x = seq(-4,4,0.01)\n",
    "y = dnorm(x)\n",
    "\n",
    "lines(x,y)\n",
    "``` -->\n",
    "\n",
    "\n",
    "\n"
   ]
  }
 ],
 "metadata": {
  "jupytext": {
   "cell_metadata_filter": "-all"
  },
  "kernelspec": {
   "display_name": "R",
   "language": "R",
   "name": "ir"
  }
 },
 "nbformat": 4,
 "nbformat_minor": 5
}
