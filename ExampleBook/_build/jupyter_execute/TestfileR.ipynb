{
 "cells": [
  {
   "cell_type": "raw",
   "id": "d09412c4",
   "metadata": {},
   "source": [
    "---\n",
    "title: \"Test file\"\n",
    "output: html_document\n",
    "---"
   ]
  },
  {
   "cell_type": "code",
   "execution_count": 1,
   "id": "50e882fa",
   "metadata": {
    "name": "setup",
    "tags": [
     "remove_cell"
    ],
    "vscode": {
     "languageId": "r"
    }
   },
   "outputs": [
    {
     "ename": "ERROR",
     "evalue": "Error in loadNamespace(x): there is no package called ‘knitr’\n",
     "output_type": "error",
     "traceback": [
      "Error in loadNamespace(x): there is no package called ‘knitr’\nTraceback:\n",
      "1. loadNamespace(x)",
      "2. withRestarts(stop(cond), retry_loadNamespace = function() NULL)",
      "3. withOneRestart(expr, restarts[[1L]])",
      "4. doWithOneRestart(return(expr), restart)"
     ]
    }
   ],
   "source": [
    "knitr::opts_chunk$set(echo = TRUE)"
   ]
  },
  {
   "attachments": {},
   "cell_type": "markdown",
   "id": "e90c78f7",
   "metadata": {},
   "source": [
    "# R Markdown\n",
    "\n",
    "Let's just test this."
   ]
  },
  {
   "cell_type": "code",
   "execution_count": null,
   "id": "6c065e9d",
   "metadata": {
    "lines_to_next_cell": 0,
    "vscode": {
     "languageId": "r"
    }
   },
   "outputs": [],
   "source": [
    "1+1\n",
    "x<-rnorm(1000)\n",
    "hist(x)"
   ]
  },
  {
   "attachments": {},
   "cell_type": "markdown",
   "id": "6e1e5f69",
   "metadata": {},
   "source": []
  }
 ],
 "metadata": {
  "jupytext": {
   "cell_metadata_filter": "tags,name,-all"
  },
  "kernelspec": {
   "display_name": "R",
   "language": "R",
   "name": "ir"
  },
  "language_info": {
   "codemirror_mode": "r",
   "file_extension": ".r",
   "mimetype": "text/x-r-source",
   "name": "R",
   "pygments_lexer": "r",
   "version": "4.2.2"
  }
 },
 "nbformat": 4,
 "nbformat_minor": 5
}