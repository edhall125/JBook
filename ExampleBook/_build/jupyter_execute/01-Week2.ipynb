{
 "cells": [
  {
   "cell_type": "markdown",
   "id": "0502645c",
   "metadata": {},
   "source": [
    "# Adding in images and tables.\n",
    "\n",
    "In this week's notes we will look at adding images and basic tables. You can also add a link to the [notes last week][Introduction] by referring to the name of the heading.\n",
    "\n",
    "## Example of a table\n",
    "\n",
    "Here is a basic table.\n",
    "\n",
    "|Header 1| Header 2 | Header 3|\n",
    "|:------|:-------|:---------|\n",
    "|Row 1 | Number | Number|\n",
    "|Row 2 | Number | Number|\n",
    "\n",
    "## Adding images\n",
    "\n",
    "We look at two approaches for adding the same image. We add **alternative text** in both cases. You will see how R Markdown treats them differently.\n",
    "\n",
    ":::remark\n",
    "The files must be in the same directory as this 01-Week2.Rmd file.\n",
    ":::\n",
    "\n",
    "### Approach 1\n",
    "\n",
    "This is the easier approach but the alternative text is not as nice.\n",
    "\n",
    "![Here is the alternative text](workers.png)\n",
    "\n",
    "### Approach 2\n",
    "\n",
    "This is the slightly more difficult approach and requires the use of R, but it is better for \"hiding\" the alternative text."
   ]
  },
  {
   "cell_type": "code",
   "execution_count": 1,
   "id": "cff9bf88",
   "metadata": {
    "fig.alt": "Here is the alternative text",
    "tags": [
     "remove_input"
    ]
   },
   "outputs": [
    {
     "ename": "SyntaxError",
     "evalue": "invalid syntax (2351323913.py, line 1)",
     "output_type": "error",
     "traceback": [
      "\u001b[0;36m  Cell \u001b[0;32mIn[1], line 1\u001b[0;36m\u001b[0m\n\u001b[0;31m    knitr::include_graphics(\"workers.png\")\u001b[0m\n\u001b[0m          ^\u001b[0m\n\u001b[0;31mSyntaxError\u001b[0m\u001b[0;31m:\u001b[0m invalid syntax\n"
     ]
    }
   ],
   "source": [
    "knitr::include_graphics(\"workers.png\")\n"
   ]
  },
  {
   "cell_type": "markdown",
   "id": "1dc272e3",
   "metadata": {},
   "source": [
    "## Adding in images using R (or Python)\n",
    "\n",
    "Press ctrl, alt and i to add R code This adds the chunk below and you can add in R code. Python etc. can also be added by pressing the '+C' image at the top right corner.\n",
    "\n",
    "As an example please see the following."
   ]
  },
  {
   "cell_type": "code",
   "execution_count": null,
   "id": "e2b8e0fc",
   "metadata": {
    "fig.alt": "A graph that shows...",
    "fig.cap": "A graph demonstrating...",
    "lines_to_next_cell": 0
   },
   "outputs": [],
   "source": [
    "x<-rnorm(100,mean=4,sd=2)\n",
    "y<-x^{2}\n",
    "plot(x,y,lwd=4,main=\"Mock plot\")\n"
   ]
  },
  {
   "cell_type": "markdown",
   "id": "09fae113",
   "metadata": {},
   "source": [
    "<br>"
   ]
  },
  {
   "cell_type": "markdown",
   "id": "cb4ab9e6",
   "metadata": {},
   "source": [
    "You can also hide code, so that graphs are produced without showing the code, or you can hide output so the code is shown without the results etc. see [the R Markdown cheatsheet](https://rstudio.com/wp-content/uploads/2015/02/rmarkdown-cheatsheet.pdf) for more information.\n",
    "\n",
    "Here is one example where the graph is produced but the output is hidden, by setting echo=FALSE."
   ]
  },
  {
   "cell_type": "code",
   "execution_count": null,
   "id": "c8c09665",
   "metadata": {
    "fig.alt": "A graph that shows...",
    "fig.cap": "A graph demonstrating...",
    "lines_to_next_cell": 0,
    "tags": [
     "remove_input"
    ]
   },
   "outputs": [],
   "source": [
    "x<-rnorm(100,mean=4,sd=2)\n",
    "y<-x^{2}\n",
    "plot(x,y,lwd=4,main=\"Mock plot\")\n"
   ]
  },
  {
   "cell_type": "markdown",
   "id": "83de64cb",
   "metadata": {},
   "source": [
    "<br>\n",
    "\n",
    "Here is another example where the code is shown but the graph is not shown using eval=FALSE."
   ]
  },
  {
   "cell_type": "code",
   "execution_count": null,
   "id": "9edc4529",
   "metadata": {
    "eval": false,
    "fig.alt": "A graph that shows...",
    "fig.cap": "A graph demonstrating...",
    "lines_to_next_cell": 0
   },
   "outputs": [],
   "source": [
    "x<-rnorm(100,mean=4,sd=2)\n",
    "y<-x^{2}\n",
    "plot(x,y,lwd=4,main=\"Mock plot\")\n"
   ]
  },
  {
   "cell_type": "markdown",
   "id": "3f629967",
   "metadata": {},
   "source": []
  }
 ],
 "metadata": {
  "jupytext": {
   "cell_metadata_filter": "fig.alt,tags,eval,fig.cap,-all",
   "main_language": "R",
   "notebook_metadata_filter": "-all",
   "text_representation": {
    "extension": ".Rmd",
    "format_name": "rmarkdown"
   }
  },
  "language_info": {
   "codemirror_mode": {
    "name": "ipython",
    "version": 3
   },
   "file_extension": ".py",
   "mimetype": "text/x-python",
   "name": "python",
   "nbconvert_exporter": "python",
   "pygments_lexer": "ipython3",
   "version": "3.11.4"
  }
 },
 "nbformat": 4,
 "nbformat_minor": 5
}