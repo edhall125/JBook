{
 "cells": [
  {
   "cell_type": "markdown",
   "id": "254a9ebd",
   "metadata": {},
   "source": [
    "# Notebook 1"
   ]
  },
  {
   "cell_type": "code",
   "execution_count": null,
   "id": "3216fcf0",
   "metadata": {},
   "outputs": [],
   "source": [
    "a = 10\n",
    "print(a)"
   ]
  },
  {
   "cell_type": "markdown",
   "id": "f714d8bf",
   "metadata": {},
   "source": [
    "[Second Notebook](notebook2.ipynb)"
   ]
  },
  {
   "cell_type": "markdown",
   "id": "a780f3b2",
   "metadata": {},
   "source": [
    "```{theorem}\n",
    "This is a `theorem` environment that can contain **any**\n",
    "_Markdown_ syntax.\n",
    "```"
   ]
  },
  {
   "cell_type": "markdown",
   "id": "f51e3f1a",
   "metadata": {},
   "source": [
    "Can we reference something from somewhere else? {prf:ref}`Orthog Projection <my-theorem>`"
   ]
  }
 ],
 "metadata": {
  "kernelspec": {
   "display_name": "Python 3 (ipykernel)",
   "language": "python",
   "name": "python3"
  },
  "language_info": {
   "codemirror_mode": {
    "name": "ipython",
    "version": 3
   },
   "file_extension": ".py",
   "mimetype": "text/x-python",
   "name": "python",
   "nbconvert_exporter": "python",
   "pygments_lexer": "ipython3",
   "version": "3.10.8"
  }
 },
 "nbformat": 4,
 "nbformat_minor": 5
}
