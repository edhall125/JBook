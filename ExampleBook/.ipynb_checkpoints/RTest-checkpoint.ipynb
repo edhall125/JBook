{
 "cells": [
  {
   "cell_type": "markdown",
   "id": "c7e236cc",
   "metadata": {},
   "source": [
    "# Testing Rmd files\n",
    "\n",
    "## Task 1 - Manipulating Data and Drawing Graphs"
   ]
  },
  {
   "cell_type": "code",
   "execution_count": null,
   "id": "23cfb286",
   "metadata": {
    "lines_to_next_cell": 0
   },
   "outputs": [],
   "source": [
    "mydata = sample(1:100,1000,replace=TRUE)\n",
    "\n",
    "stripchart(mydata,method=\"stack\",ylab=\"Frequency\",xlab=\"Value\",main=\"Dot plot of some data\")\n",
    "\n",
    "plot(mydata,type=\"h\",ylab=\"value\",xlab=\"data point\",main=\"Plot of some data (with h option on)\")\n",
    "\n",
    "barplot(table(mydata),ylab=\"Frequency\",xlab=\"Value\",main=\"Bar plot of some data\")\n"
   ]
  },
  {
   "cell_type": "markdown",
   "id": "9633946b",
   "metadata": {},
   "source": [
    "\n",
    "\n"
   ]
  }
 ],
 "metadata": {
  "jupytext": {
   "cell_metadata_filter": "-all",
   "main_language": "R",
   "notebook_metadata_filter": "-all"
  },
  "kernelspec": {
   "display_name": "R",
   "language": "R",
   "name": "ir"
  },
  "language_info": {
   "codemirror_mode": "r",
   "file_extension": ".r",
   "mimetype": "text/x-r-source",
   "name": "R",
   "pygments_lexer": "r",
   "version": "4.2.2"
  }
 },
 "nbformat": 4,
 "nbformat_minor": 5
}
